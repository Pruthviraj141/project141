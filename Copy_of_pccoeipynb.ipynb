{
  "nbformat": 4,
  "nbformat_minor": 0,
  "metadata": {
    "colab": {
      "provenance": [],
      "authorship_tag": "ABX9TyNYSXOQEcNZKYZeE4VMyZXU",
      "include_colab_link": true
    },
    "kernelspec": {
      "name": "python3",
      "display_name": "Python 3"
    },
    "language_info": {
      "name": "python"
    }
  },
  "cells": [
    {
      "cell_type": "markdown",
      "metadata": {
        "id": "view-in-github",
        "colab_type": "text"
      },
      "source": [
        "<a href=\"https://colab.research.google.com/github/Pruthviraj141/project141/blob/main/Copy_of_pccoeipynb.ipynb\" target=\"_parent\"><img src=\"https://colab.research.google.com/assets/colab-badge.svg\" alt=\"Open In Colab\"/></a>"
      ]
    },
    {
      "cell_type": "code",
      "source": [
        "import pandas as pd\n",
        "import numpy as np\n",
        "from sklearn.model_selection import StratifiedKFold\n",
        "from sklearn.preprocessing import LabelEncoder\n",
        "from sklearn.metrics import accuracy_score, f1_score, roc_auc_score\n",
        "from imblearn.over_sampling import SMOTE\n",
        "import lightgbm as lgb\n",
        "import joblib"
      ],
      "metadata": {
        "id": "STlAL4LEwc8Y"
      },
      "execution_count": null,
      "outputs": []
    },
    {
      "cell_type": "code",
      "source": [
        "# Load data\n",
        "train_df = pd.read_csv('train.csv')\n",
        "test_df = pd.read_csv('test.csv')  # Assuming similar test data"
      ],
      "metadata": {
        "colab": {
          "base_uri": "https://localhost:8080/"
        },
        "id": "9Pgxs8S-wkA6",
        "outputId": "a03d8a0c-1ae6-4951-b465-e3a56ad8ea69"
      },
      "execution_count": null,
      "outputs": [
        {
          "output_type": "stream",
          "name": "stderr",
          "text": [
            "<ipython-input-3-4f31dd9fbe56>:2: DtypeWarning: Columns (28) have mixed types. Specify dtype option on import or set low_memory=False.\n",
            "  train_df = pd.read_csv('train.csv')\n"
          ]
        }
      ]
    },
    {
      "cell_type": "code",
      "source": [
        "def preprocess_data(df):\n",
        "    df = df.drop(['PlayerID', 'GameName'], axis=1)  # Remove non-predictive IDs\n",
        "\n",
        "    # Convert version strings to numerical representations\n",
        "    version_cols = ['GameVersion', 'AntiCheatVersion', 'SecuritySignatureVersion',\n",
        "                   'EmbeddedBrowserVersion', 'OSVersionDetails']\n",
        "\n",
        "    for col in version_cols:\n",
        "        # Handle missing values by filling with '0.0.0' (or any placeholder)\n",
        "        df[col] = df[col].fillna('0.0.0')\n",
        "\n",
        "        # Convert version strings to numerical values\n",
        "        df[col] = df[col].apply(lambda x: sum([int(n) if n.isdigit() else 0 for n in str(x).split('.')]))\n",
        "\n",
        "    # Label encode categorical features\n",
        "    cat_cols = df.select_dtypes(include=['object']).columns\n",
        "    for col in cat_cols:\n",
        "        le = LabelEncoder()\n",
        "        df[col] = le.fit_transform(df[col].astype(str))\n",
        "\n",
        "    # Feature engineering\n",
        "    df['SecurityTools_Ratio'] = df['SecurityToolsEnabled'] / (df['SecurityToolsInstalled'] + 1e-5)\n",
        "    df['OS_Complexity'] = df['OSBuildNum'] * df['OSBuildRev']\n",
        "\n",
        "    return df"
      ],
      "metadata": {
        "id": "PEDCoJvHwoDa"
      },
      "execution_count": null,
      "outputs": []
    },
    {
      "cell_type": "code",
      "source": [
        "train_df = preprocess_data(train_df)\n",
        "test_df = preprocess_data(test_df)\n",
        "\n",
        "# Handle missing values in numerical columns\n",
        "train_df = train_df.fillna(train_df.median(numeric_only=True))\n",
        "test_df = test_df.fillna(test_df.median(numeric_only=True))\n"
      ],
      "metadata": {
        "id": "wXDzbXJvwvqA"
      },
      "execution_count": null,
      "outputs": []
    },
    {
      "cell_type": "code",
      "source": [
        "# Split data\n",
        "X = train_df.drop('CheatingFlag', axis=1)\n",
        "y = train_df['CheatingFlag']\n",
        "X_test = test_df"
      ],
      "metadata": {
        "id": "vfQ-L-rVw4D-"
      },
      "execution_count": null,
      "outputs": []
    },
    {
      "cell_type": "code",
      "source": [
        "# Handle class imbalance with SMOTE\n",
        "smote = SMOTE(sampling_strategy='auto', random_state=42)  # Use 'auto' for default behavior\n",
        "X_res, y_res = smote.fit_resample(X, y)"
      ],
      "metadata": {
        "id": "zKbhMhE8w6mK"
      },
      "execution_count": null,
      "outputs": []
    },
    {
      "cell_type": "code",
      "source": [
        "params = {\n",
        "    'objective': 'binary',\n",
        "    'metric': 'auc',\n",
        "    'boosting_type': 'gbdt',\n",
        "    'num_leaves': 31,\n",
        "    'learning_rate': 0.05,\n",
        "    'feature_fraction': 0.8,\n",
        "    'bagging_fraction': 0.8,\n",
        "    'scale_pos_weight': len(y[y==0])/len(y[y==1]),\n",
        "    'seed': 42,\n",
        "    'verbose': -1  # Verbosity level (-1 for no output, 1 for progress)\n",
        "}"
      ],
      "metadata": {
        "id": "3xHrmCxBw8m-"
      },
      "execution_count": null,
      "outputs": []
    },
    {
      "cell_type": "code",
      "source": [
        "# Stratified K-Fold Cross Validation\n",
        "skf = StratifiedKFold(n_splits=5, shuffle=True, random_state=42)\n",
        "oof_preds = np.zeros(X_res.shape[0])\n",
        "test_preds = []"
      ],
      "metadata": {
        "id": "Rh1XQBgew_Hv"
      },
      "execution_count": null,
      "outputs": []
    },
    {
      "cell_type": "code",
      "source": [
        "# LightGBM parameters (optimized for imbalance)\n",
        "params = {\n",
        "    'objective': 'binary',\n",
        "    'metric': 'auc',\n",
        "    'boosting_type': 'gbdt',\n",
        "    'num_leaves': 31,\n",
        "    'learning_rate': 0.05,\n",
        "    'feature_fraction': 0.8,\n",
        "    'bagging_fraction': 0.8,\n",
        "    'scale_pos_weight': len(y[y==0])/len(y[y==1]),\n",
        "    'seed': 42,\n",
        "    'verbose': 1  # Verbosity level (1 for progress updates)\n",
        "}\n",
        "\n",
        "# Stratified K-Fold Cross Validation\n",
        "skf = StratifiedKFold(n_splits=5, shuffle=True, random_state=42)\n",
        "oof_preds = np.zeros(X_res.shape[0])\n",
        "test_preds = []\n",
        "\n",
        "for fold, (train_idx, val_idx) in enumerate(skf.split(X_res, y_res)):\n",
        "    X_train, X_val = X_res.iloc[train_idx], X_res.iloc[val_idx]\n",
        "    y_train, y_val = y_res.iloc[train_idx], y_res.iloc[val_idx]\n",
        "\n",
        "    train_data = lgb.Dataset(X_train, label=y_train)\n",
        "    val_data = lgb.Dataset(X_val, label=y_val)\n",
        "\n",
        "    model = lgb.train(\n",
        "        params,\n",
        "        train_data,\n",
        "        num_boost_round=10000,\n",
        "        valid_sets=[val_data],\n",
        "        callbacks=[lgb.early_stopping(stopping_rounds=100)]  # Early stopping here\n",
        "    )\n",
        "\n",
        "    oof_preds[val_idx] = model.predict(X_val, num_iteration=model.best_iteration)\n",
        "    test_preds.append(model.predict(X_test, num_iteration=model.best_iteration))\n",
        "\n",
        "    joblib.dump(model, f'lgbm_fold{fold+1}.pkl')\n",
        "\n",
        "# Ensemble test predictions\n",
        "final_preds = np.mean(test_preds, axis=0)\n",
        "test_preds_binary = (final_preds > 0.5).astype(int)\n",
        "\n",
        "# Validation metrics\n",
        "print(f\"\\nFinal Validation AUC: {roc_auc_score(y_res, oof_preds):.4f}\")\n",
        "print(f\"Validation Accuracy: {accuracy_score(y_res, (oof_preds > 0.5).astype(int)):.4f}\")\n",
        "print(f\"Validation F1: {f1_score(y_res, (oof_preds > 0.5).astype(int)):.4f}\")\n",
        "\n",
        "# Feature importance\n",
        "feature_importance = pd.DataFrame({\n",
        "    'Feature': X.columns,\n",
        "    'Importance': model.feature_importance()\n",
        "}).sort_values('Importance', ascending=False)\n",
        "\n",
        "print(\"\\nTop 20 Features:\")\n",
        "print(feature_importance.head(20))\n",
        "\n",
        "# # Generate submission\n",
        "# submission = pd.DataFrame({\n",
        "#     \"PlayerID\": test[\"PlayerID\"],\n",
        "#     \"CheatingFlag\": test_preds_binary\n",
        "# })\n",
        "# submission.to_csv(\"submission_optimized.csv\", index=False)"
      ],
      "metadata": {
        "colab": {
          "base_uri": "https://localhost:8080/"
        },
        "id": "W6x8O8-0xA47",
        "outputId": "74d9d7b7-8008-4ac0-d77d-586f2a2f6877"
      },
      "execution_count": null,
      "outputs": [
        {
          "output_type": "stream",
          "name": "stdout",
          "text": [
            "[LightGBM] [Info] Number of positive: 178504, number of negative: 178504\n",
            "[LightGBM] [Info] Auto-choosing row-wise multi-threading, the overhead of testing was 0.128233 seconds.\n",
            "You can set `force_row_wise=true` to remove the overhead.\n",
            "And if memory is not enough, you can set `force_col_wise=true`.\n",
            "[LightGBM] [Info] Total Bins 5236\n",
            "[LightGBM] [Info] Number of data points in the train set: 357008, number of used features: 77\n",
            "[LightGBM] [Info] [binary:BoostFromScore]: pavg=0.500000 -> initscore=0.000000\n",
            "Training until validation scores don't improve for 100 rounds\n",
            "Early stopping, best iteration is:\n",
            "[2091]\tvalid_0's auc: 0.719674\n",
            "[LightGBM] [Info] Number of positive: 178504, number of negative: 178504\n",
            "[LightGBM] [Info] Auto-choosing row-wise multi-threading, the overhead of testing was 0.124823 seconds.\n",
            "You can set `force_row_wise=true` to remove the overhead.\n",
            "And if memory is not enough, you can set `force_col_wise=true`.\n",
            "[LightGBM] [Info] Total Bins 5242\n",
            "[LightGBM] [Info] Number of data points in the train set: 357008, number of used features: 77\n",
            "[LightGBM] [Info] [binary:BoostFromScore]: pavg=0.500000 -> initscore=0.000000\n",
            "Training until validation scores don't improve for 100 rounds\n",
            "Early stopping, best iteration is:\n",
            "[1695]\tvalid_0's auc: 0.72179\n",
            "[LightGBM] [Info] Number of positive: 178504, number of negative: 178504\n",
            "[LightGBM] [Info] Auto-choosing row-wise multi-threading, the overhead of testing was 0.284367 seconds.\n",
            "You can set `force_row_wise=true` to remove the overhead.\n",
            "And if memory is not enough, you can set `force_col_wise=true`.\n",
            "[LightGBM] [Info] Total Bins 5212\n",
            "[LightGBM] [Info] Number of data points in the train set: 357008, number of used features: 77\n",
            "[LightGBM] [Info] [binary:BoostFromScore]: pavg=0.500000 -> initscore=0.000000\n",
            "Training until validation scores don't improve for 100 rounds\n",
            "Early stopping, best iteration is:\n",
            "[1838]\tvalid_0's auc: 0.721081\n",
            "[LightGBM] [Info] Number of positive: 178504, number of negative: 178504\n",
            "[LightGBM] [Info] Auto-choosing row-wise multi-threading, the overhead of testing was 0.127590 seconds.\n",
            "You can set `force_row_wise=true` to remove the overhead.\n",
            "And if memory is not enough, you can set `force_col_wise=true`.\n",
            "[LightGBM] [Info] Total Bins 5228\n",
            "[LightGBM] [Info] Number of data points in the train set: 357008, number of used features: 77\n",
            "[LightGBM] [Info] [binary:BoostFromScore]: pavg=0.500000 -> initscore=0.000000\n",
            "Training until validation scores don't improve for 100 rounds\n",
            "Early stopping, best iteration is:\n",
            "[1497]\tvalid_0's auc: 0.719908\n",
            "[LightGBM] [Info] Number of positive: 178504, number of negative: 178504\n",
            "[LightGBM] [Info] Auto-choosing col-wise multi-threading, the overhead of testing was 0.391338 seconds.\n",
            "You can set `force_col_wise=true` to remove the overhead.\n",
            "[LightGBM] [Info] Total Bins 5200\n",
            "[LightGBM] [Info] Number of data points in the train set: 357008, number of used features: 77\n",
            "[LightGBM] [Info] [binary:BoostFromScore]: pavg=0.500000 -> initscore=0.000000\n",
            "Training until validation scores don't improve for 100 rounds\n",
            "Early stopping, best iteration is:\n",
            "[1280]\tvalid_0's auc: 0.721605\n",
            "\n",
            "Final Validation AUC: 0.7208\n",
            "Validation Accuracy: 0.6570\n",
            "Validation F1: 0.6553\n",
            "\n",
            "Top 20 Features:\n",
            "                     Feature  Importance\n",
            "2   SecuritySignatureVersion        2341\n",
            "12              PlayerCityID        1859\n",
            "42       SystemPartitionSize        1839\n",
            "7            AntiCheatStatus        1799\n",
            "38                CPUModelID        1785\n",
            "71         FirmwareVersionID        1678\n",
            "11           PlayerCountryID        1579\n",
            "35             DeviceModelID        1503\n",
            "52          OSVersionDetails        1272\n",
            "46                ScreenSize        1159\n",
            "1           AntiCheatVersion        1123\n",
            "15           LanguageSetting        1120\n",
            "0                GameVersion        1043\n",
            "14               GeoRegionID        1020\n",
            "79            PlayerRegionID         944\n",
            "56                OSBuildRev         929\n",
            "29      FraudDetectionStatus         890\n",
            "34      DeviceManufacturerID         872\n",
            "59        OSInstallationType         854\n",
            "40           StorageCapacity         727\n"
          ]
        }
      ]
    },
    {
      "cell_type": "code",
      "source": [],
      "metadata": {
        "id": "OS_RhUWzEsO8"
      },
      "execution_count": null,
      "outputs": []
    }
  ]
}